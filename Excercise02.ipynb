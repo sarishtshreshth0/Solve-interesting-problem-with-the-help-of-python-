{
 "cells": [
  {
   "cell_type": "markdown",
   "id": "dd880341-e235-448a-a603-0ff35e0375dc",
   "metadata": {},
   "source": [
    "PROBLEM STATEMENT-----If any student has sessional_perc greater than 70, then total_marks of that student is increased by 2%"
   ]
  },
  {
   "cell_type": "code",
   "execution_count": 1,
   "id": "e465ab2b-278a-4d8a-bdba-b4ca4e361143",
   "metadata": {},
   "outputs": [],
   "source": [
    "student_id = [\"s01\",\"s02\",\"s03\",\"s04\",\"s05\"]\n",
    "department = [\"CS\",\"ECE\",\"ME\",\"CS\",\"ME\"]\n",
    "backlogs = [\"NB\",\"B\",\"NB\",\"B\",\"NB\"]\n",
    "sessional_perc = [45,60,73,65.3,71.9] \n",
    "Gender = [\"M\",\"F\",\"F\",\"M\",\"F\"]\n",
    "Total_marks = [680,800,520,650,780] "
   ]
  },
  {
   "cell_type": "code",
   "execution_count": 2,
   "id": "45e93fd0-d3a5-49f1-a408-90bf8918cbdc",
   "metadata": {},
   "outputs": [
    {
     "name": "stdout",
     "output_type": "stream",
     "text": [
      "total marks will be remains same :(\n",
      "total marks will be remains same :(\n",
      "total marks will be update by 2% :)\n",
      "total marks will be remains same :(\n",
      "total marks will be update by 2% :)\n"
     ]
    }
   ],
   "source": [
    "for i in range(len(student_id)):\n",
    "    if sessional_perc[i] > 70:\n",
    "        print(\"total marks will be update by 2% :)\")\n",
    "    else:\n",
    "            print(\"total marks will be remains same :(\")"
   ]
  },
  {
   "cell_type": "code",
   "execution_count": null,
   "id": "18ef37a1-cab9-4473-bb1b-7aa1668f97fa",
   "metadata": {},
   "outputs": [],
   "source": []
  },
  {
   "cell_type": "code",
   "execution_count": null,
   "id": "31426254-3835-448f-8304-656f5fb813a9",
   "metadata": {},
   "outputs": [],
   "source": []
  },
  {
   "cell_type": "code",
   "execution_count": null,
   "id": "0a16358c-5ea8-4bd4-87c0-cfdf418d3381",
   "metadata": {},
   "outputs": [],
   "source": []
  }
 ],
 "metadata": {
  "kernelspec": {
   "display_name": "Python 3 (ipykernel)",
   "language": "python",
   "name": "python3"
  },
  "language_info": {
   "codemirror_mode": {
    "name": "ipython",
    "version": 3
   },
   "file_extension": ".py",
   "mimetype": "text/x-python",
   "name": "python",
   "nbconvert_exporter": "python",
   "pygments_lexer": "ipython3",
   "version": "3.10.8"
  }
 },
 "nbformat": 4,
 "nbformat_minor": 5
}
