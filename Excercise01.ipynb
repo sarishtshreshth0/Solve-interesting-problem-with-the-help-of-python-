{
 "cells": [
  {
   "cell_type": "markdown",
   "id": "670fe13d-e8c6-4342-b5eb-6b008d499232",
   "metadata": {},
   "source": [
    "Assume, A scholarship progamm anounced in your universtiy, if any students has Total_marks greater than 750 and with NO Backlog will be awarded by Scholarship                                               (In first cell of python data given of students)"
   ]
  },
  {
   "cell_type": "code",
   "execution_count": 21,
   "id": "f1f69a1f-04e8-4da4-b15b-91e4c503109d",
   "metadata": {},
   "outputs": [],
   "source": [
    "student_id = [\"s01\",\"s02\",\"s03\",\"s04\",\"s05\"]\n",
    "department = [\"CS\",\"ECE\",\"ME\",\"CS\",\"ME\"]\n",
    "backlogs = [\"NB\",\"B\",\"NB\",\"B\",\"NB\"]\n",
    "sessional_perc = [45,60,73,65.3,71.9] \n",
    "Gender = [\"M\",\"F\",\"F\",\"M\",\"F\"]\n",
    "Total_marks = [680,800,520,650,780] "
   ]
  },
  {
   "cell_type": "code",
   "execution_count": 20,
   "id": "7c3e5ef7-95fb-4171-8835-820e7031b952",
   "metadata": {},
   "outputs": [
    {
     "name": "stdout",
     "output_type": "stream",
     "text": [
      "Opps Sorry, Hard Work Always PayOff\n",
      "Awarded scholarship\n",
      "Opps Sorry, Hard Work Always PayOff\n",
      "Opps Sorry, Hard Work Always PayOff\n",
      "Awarded scholarship\n"
     ]
    }
   ],
   "source": [
    "for i in range(len(student_id)):\n",
    "    if Total_marks[i] > 750:\n",
    "        backlogs == \"NB\"\n",
    "        print(\"Awarded scholarship\")\n",
    "    else:\n",
    "            print(\"Opps Sorry, Hard Work Always PayOff\")"
   ]
  },
  {
   "cell_type": "code",
   "execution_count": null,
   "id": "6b1df075-c76e-47a3-93f0-b55e087c7c70",
   "metadata": {},
   "outputs": [],
   "source": []
  }
 ],
 "metadata": {
  "kernelspec": {
   "display_name": "Python 3 (ipykernel)",
   "language": "python",
   "name": "python3"
  },
  "language_info": {
   "codemirror_mode": {
    "name": "ipython",
    "version": 3
   },
   "file_extension": ".py",
   "mimetype": "text/x-python",
   "name": "python",
   "nbconvert_exporter": "python",
   "pygments_lexer": "ipython3",
   "version": "3.10.8"
  }
 },
 "nbformat": 4,
 "nbformat_minor": 5
}
